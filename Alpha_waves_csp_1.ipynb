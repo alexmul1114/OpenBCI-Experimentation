{
 "cells": [
  {
   "cell_type": "code",
   "execution_count": 18,
   "id": "ac7f70d5-ed1a-4bde-b69e-9118bfd8bed2",
   "metadata": {},
   "outputs": [],
   "source": [
    "\n",
    "import numpy as np\n",
    "\n",
    "import matplotlib as mpl\n",
    "import matplotlib.pyplot as plt\n",
    "\n",
    "from scipy import signal\n",
    "from scipy import linalg \n",
    "\n",
    "import mne\n",
    "\n",
    "# Global variables\n",
    "sampling_rate = 250\n"
   ]
  },
  {
   "cell_type": "code",
   "execution_count": 19,
   "id": "85c4191c-aacb-415c-8f82-f8be80ebaa9e",
   "metadata": {},
   "outputs": [],
   "source": [
    "\"\"\"Extracting data for 8 channel data\"\"\"\n",
    "# Function to read files, put data in lists, returns an array with 8 entries, each one being a list of all values for a channel\n",
    "def extract_channel_vals_8_channels(data_file_path):\n",
    "    \n",
    "    data_file = open(data_file_path, 'r')\n",
    "    \n",
    "    channel_vals = [ [], [], [], [], [], [], [], [] ]\n",
    "    \n",
    "    for line in data_file:\n",
    "\n",
    "        temp = line.strip().split(\",\")\n",
    "        \n",
    "        try:\n",
    "            for i in range(len(channel_vals)):\n",
    "                \n",
    "                # Need to skip first column of text file since it has sample index info\n",
    "                channel_vals[i].append(float(temp[i + 1]))\n",
    "\n",
    "        except:\n",
    "            pass  \n",
    "    \n",
    "    data_file.close()\n",
    "        \n",
    "    # Convert lists to arrays\n",
    "    for channel_vals_i in [channel_vals[0], channel_vals[1], channel_vals[2], channel_vals[3],\n",
    "                         channel_vals[4], channel_vals[5], channel_vals[6], channel_vals[7], ]:\n",
    "        channel_vals_i = np.array(channel_vals_i)\n",
    "    \n",
    "\n",
    "    \n",
    "    channel_vals = np.array(channel_vals)\n",
    "    \n",
    "    return channel_vals"
   ]
  },
  {
   "cell_type": "code",
   "execution_count": 20,
   "id": "3c0d17b4-4670-4705-9c62-998498084317",
   "metadata": {},
   "outputs": [],
   "source": [
    "subject_1_data_1_path = r'C:\\Users\\alexm\\OneDrive\\Computer Files\\EEG\\Recordings\\OpenBCISession_2021-10-16_15-40-46_Subject1_Protocol1\\OpenBCI-RAW-2021-10-16_15-42-09.txt'\n",
    "subject_2_data_1_path = r'C:\\Users\\alexm\\OneDrive\\Computer Files\\EEG\\Recordings\\OpenBCISession_2021-10-16_15-08-43_Subject2_Protocol1\\OpenBCI-RAW-2021-10-16_15-10-34.txt'\n",
    "subject_4_data_1_path = r'C:\\Users\\alexm\\OneDrive\\Computer Files\\EEG\\Recordings\\OpenBCISession_2021-10-16_14-51-59_Subject4_Protocol1\\OpenBCI-RAW-2021-10-16_14-55-24.txt'"
   ]
  },
  {
   "cell_type": "code",
   "execution_count": 21,
   "id": "323c2e31-ee4f-47a2-a2a6-c748792545f5",
   "metadata": {},
   "outputs": [],
   "source": [
    "# Create EEG vector for a single 2s epoch\n",
    "\n",
    "\"\"\"\n",
    "Plan to get final input vector X for CSP:\n",
    "    1. Split channel values into 2s epochs (3s to 15s, 15s to 27s, 33s - 45s, 45-57s, all have 6 2-second epochs)\n",
    "    2. Filter channel values into alpha range\n",
    "    3. Create matrix x for each epoch (8 x 500 for 8 channels, 500 samples (2 * sampling rate))\n",
    "    4. Create vectors X (open) and X (closed) for training open and training closed data using specific epochs for those\n",
    "    5. X vectors are input vectors for CSP\n",
    "\"\"\"\n",
    "def get_epoch_vector(channel_vals, start_time):\n",
    "    \n",
    "    sampling_rate = 250\n",
    "    \n",
    "    low_filter = 5 #Hz\n",
    "    high_filter = 15 #Hz\n",
    "    b, a = signal.butter(5, [low_filter/250, high_filter/250], \"bandpass\")\n",
    "    \n",
    "    counter = start_time\n",
    "    \n",
    "    # Use bandpass filter to filter all channels into alpha range (5-15 Hz)\n",
    "    channel_vals_filtered = channel_vals[:]\n",
    "    for i in range (8):\n",
    "        channel_vals_filtered[i] = signal.filtfilt(b, a, channel_vals[i])\n",
    "\n",
    "    # Create (8 x 500) matrix x for a 2s epoch\n",
    "    \n",
    "    epoch_vector = [[], [], [], [], [], [], [], []]\n",
    "    for i in range(8):\n",
    "        for j in range(counter * sampling_rate, (counter + 2) * sampling_rate):\n",
    "            epoch_vector[i].append(channel_vals_filtered[i][j])\n",
    "\n",
    "    epoch_vector = np.array(epoch_vector)\n",
    "\n",
    "    #print(np.shape(epoch_vector))\n",
    "    \n",
    "    return epoch_vector"
   ]
  },
  {
   "cell_type": "code",
   "execution_count": 22,
   "id": "c0ddd3bc-6e73-4ff7-a21e-d5955ab5ae10",
   "metadata": {},
   "outputs": [
    {
     "data": {
      "text/plain": [
       "array([[  0.3864041 ,   0.2295811 ,   0.0201083 , ...,  -1.16368571,\n",
       "         -1.13146769,  -1.04755202],\n",
       "       [  1.68812418,   1.85687377,   1.94361284, ...,   1.05981832,\n",
       "          1.17026009,   1.32054448],\n",
       "       [  7.38416936,   7.03543841,   6.50276352, ...,   0.17002761,\n",
       "         -0.08521103,  -0.31383634],\n",
       "       ...,\n",
       "       [  0.02979931,   0.61357367,   1.24680734, ..., -14.01227113,\n",
       "        -11.31223022,  -8.64491534],\n",
       "       [ 10.90559444,  10.33550158,   9.68655769, ...,   4.42235084,\n",
       "          5.12657918,   5.70372474],\n",
       "       [  5.45667503,   5.31630237,   5.06418622, ...,  -2.03590526,\n",
       "         -2.60942343,  -3.13268406]])"
      ]
     },
     "execution_count": 22,
     "metadata": {},
     "output_type": "execute_result"
    }
   ],
   "source": [
    "get_epoch_vector(extract_channel_vals_8_channels(subject_2_data_1_path), 3)"
   ]
  },
  {
   "cell_type": "code",
   "execution_count": 23,
   "id": "d8d7df11-5b07-4381-b9e6-f6bb9ae1d01c",
   "metadata": {},
   "outputs": [],
   "source": [
    "# Create input vector for CSP, X consisting of start time and next 12 seconds, split into 6 2-second epochs\n",
    "\n",
    "def get_input_vector(channel_vals, start_time):\n",
    "    \n",
    "    csp_vector = []\n",
    "    \n",
    "    for epoch in range(start_time, start_time + 12, 2):\n",
    "        csp_vector.append(get_epoch_vector(channel_vals, epoch))\n",
    "        \n",
    "    for epoch in range(start_time + 30, start_time + 42, 2):\n",
    "        csp_vector.append(get_epoch_vector(channel_vals, epoch))\n",
    "    \n",
    "    csp_vector = np.array(csp_vector)\n",
    "    \n",
    "    #print(np.shape(csp_vector))\n",
    "    \n",
    "    return csp_vector\n",
    "    "
   ]
  },
  {
   "cell_type": "code",
   "execution_count": 24,
   "id": "af9b305f-d19f-4f83-b19c-f49fb3ceb29d",
   "metadata": {},
   "outputs": [],
   "source": [
    "#get_input_vector(extract_channel_vals_8_channels(subject_2_data_1_path), 3)"
   ]
  },
  {
   "cell_type": "code",
   "execution_count": 25,
   "id": "6f89e2fc-c3a6-413c-ab07-0d2381540e0e",
   "metadata": {},
   "outputs": [],
   "source": [
    "# Return all 4 input vectors for CSP - eyes open training, eyes closed training, eyes open testing, eyes open testing\n",
    "\n",
    "def get_all_input_vectors(channel_vals):\n",
    "    \n",
    "    eyes_open_training = get_input_vector(extract_channel_vals_8_channels(subject_2_data_1_path), 3)\n",
    "    eyes_closed_training = get_input_vector(extract_channel_vals_8_channels(subject_2_data_1_path), 33)\n",
    "    eyes_open_testing = get_input_vector(extract_channel_vals_8_channels(subject_2_data_1_path), 15)\n",
    "    eyes_closed_testing = get_input_vector(extract_channel_vals_8_channels(subject_2_data_1_path), 45)\n",
    "    \n",
    "    return eyes_open_training, eyes_closed_training, eyes_open_testing, eyes_closed_testing\n",
    "    \n",
    "    "
   ]
  },
  {
   "cell_type": "code",
   "execution_count": 35,
   "id": "4c596ad9-e157-48c0-a8eb-cb3bf942d527",
   "metadata": {},
   "outputs": [
    {
     "name": "stdout",
     "output_type": "stream",
     "text": [
      "(12, 8, 500) (12, 8, 500)\n",
      "Computing rank from data with rank=None\n",
      "    Using tolerance 1.2 (2.2e-16 eps * 8 dim * 7e+14  max singular value)\n",
      "    Estimated rank (mag): 8\n",
      "    MAG: rank 8 computed from 8 data channels with 0 projectors\n",
      "Reducing data rank from 8 -> 8\n",
      "Estimating covariance using EMPIRICAL\n",
      "Done.\n",
      "Computing rank from data with rank=None\n",
      "    Using tolerance 1.5 (2.2e-16 eps * 8 dim * 8.6e+14  max singular value)\n",
      "    Estimated rank (mag): 8\n",
      "    MAG: rank 8 computed from 8 data channels with 0 projectors\n",
      "Reducing data rank from 8 -> 8\n",
      "Estimating covariance using EMPIRICAL\n",
      "Done.\n",
      "Computing rank from data with rank=None\n",
      "    Using tolerance 1.1 (2.2e-16 eps * 8 dim * 6.2e+14  max singular value)\n",
      "    Estimated rank (mag): 8\n",
      "    MAG: rank 8 computed from 8 data channels with 0 projectors\n",
      "Reducing data rank from 8 -> 8\n",
      "Estimating covariance using EMPIRICAL\n",
      "Done.\n",
      "Computing rank from data with rank=None\n",
      "    Using tolerance 1 (2.2e-16 eps * 8 dim * 5.9e+14  max singular value)\n",
      "    Estimated rank (mag): 8\n",
      "    MAG: rank 8 computed from 8 data channels with 0 projectors\n",
      "Reducing data rank from 8 -> 8\n",
      "Estimating covariance using EMPIRICAL\n",
      "Done.\n",
      "[[-1.85806348 -0.01658714 -0.00360987 -1.05976644]\n",
      " [-1.99397326 -0.13785538 -0.08030472 -0.40900973]\n",
      " [-1.63185668 -0.46807992 -0.98336458 -1.47995602]\n",
      " [-1.83750183  0.12480359 -0.81261566 -1.30350734]\n",
      " [-1.48317722 -0.89112122 -0.30071069 -1.20632148]\n",
      " [-1.77213264 -1.28517122 -0.52959864 -1.78934883]\n",
      " [ 1.06108337 -1.27849216 -1.62188881  0.1878874 ]\n",
      " [-0.10125703 -1.98640752 -1.57122782 -0.328128  ]\n",
      " [-1.36254809 -1.22688496 -0.99777147 -0.49371679]\n",
      " [-0.90676764 -1.09738801 -0.79295384 -0.41085982]\n",
      " [-1.65411426 -1.21068714 -1.04089905 -0.99122076]\n",
      " [-1.171477   -1.03081926 -1.04347073 -0.79841941]]\n"
     ]
    }
   ],
   "source": [
    "training = get_input_vector(extract_channel_vals_8_channels(subject_2_data_1_path), 3)\n",
    "testing = get_input_vector(extract_channel_vals_8_channels(subject_2_data_1_path), 15)\n",
    "print(np.shape(training), np.shape(testing))\n",
    "labels = np.array([1,1,1,1,1,1,2,2,2,2,2,2])\n",
    "csp = mne.decoding.CSP(n_components=4, norm_trace=False)\n",
    "training_x = csp.fit_transform(training, labels)\n",
    "testing_x = csp.fit_transform(testing, labels)\n",
    "print(training_x)"
   ]
  },
  {
   "cell_type": "code",
   "execution_count": 36,
   "id": "7f0f66ee-79fc-41bb-978c-282a21d3c40d",
   "metadata": {},
   "outputs": [
    {
     "name": "stdout",
     "output_type": "stream",
     "text": [
      "0.5\n"
     ]
    }
   ],
   "source": [
    "from sklearn import svm\n",
    "\n",
    "train_y = [0,0,0,0,0,0,1,1,1,1,1,1]\n",
    "\n",
    "clf_svm = svm.SVC(kernel = 'linear')\n",
    "clf_svm.fit(training_x, train_y)\n",
    "\n",
    "print(clf_svm.score(testing_x, train_y))"
   ]
  },
  {
   "cell_type": "code",
   "execution_count": 37,
   "id": "b645340e-d6c8-4376-924a-806a6649ba47",
   "metadata": {},
   "outputs": [
    {
     "data": {
      "text/html": [
       "\n",
       "<table class=\"table table-hover table-striped table-sm table-responsive small\">\n",
       "    <tr>\n",
       "        <th>Measurement date</th>\n",
       "<td>Unknown</td>\n",
       "    </tr>\n",
       "    <tr>\n",
       "        <th>Experimenter</th>\n",
       "<td>Unknown</td>\n",
       "    </tr>\n",
       "        <th>Participant</th>\n",
       "<td>Unknown</td>\n",
       "    </tr>\n",
       "    <tr>\n",
       "        <th>Digitized points</th>\n",
       "        <td>11 points</td>\n",
       "    </tr>\n",
       "    <tr>\n",
       "        <th>Good channels</th>\n",
       "        <td>8 EEG</td>\n",
       "    </tr>\n",
       "    <tr>\n",
       "        <th>Bad channels</th>\n",
       "        <td>None</td>\n",
       "    </tr>\n",
       "    <tr>\n",
       "        <th>EOG channels</th>\n",
       "        <td>Not available</td>\n",
       "    </tr>\n",
       "    <tr>\n",
       "        <th>ECG channels</th>\n",
       "        <td>Not available</td>\n",
       "    <tr>\n",
       "        <th>Sampling frequency</th>\n",
       "        <td>250.00 Hz</td>\n",
       "    </tr>\n",
       "    <tr>\n",
       "        <th>Highpass</th>\n",
       "        <td>0.00 Hz</td>\n",
       "    </tr>\n",
       "    <tr>\n",
       "        <th>Lowpass</th>\n",
       "        <td>125.00 Hz</td>\n",
       "    </tr>\n",
       "</table>\n"
      ],
      "text/plain": [
       "<Info | 8 non-empty values\n",
       " bads: []\n",
       " ch_names: Fp1, Fp2, C3, C4, O1, O2, P4, P3\n",
       " chs: 8 EEG\n",
       " custom_ref_applied: False\n",
       " dig: 11 items (3 Cardinal, 8 EEG)\n",
       " highpass: 0.0 Hz\n",
       " lowpass: 125.0 Hz\n",
       " meas_date: unspecified\n",
       " nchan: 8\n",
       " projs: []\n",
       " sfreq: 250.0 Hz\n",
       ">"
      ]
     },
     "execution_count": 37,
     "metadata": {},
     "output_type": "execute_result"
    }
   ],
   "source": [
    "channel_names = [\"Fp1\", \"Fp2\", \"C3\", \"C4\", \"O1\", \"O2\", \"P4\", \"P3\"]\n",
    "info = mne.create_info(channel_names, sampling_rate, \"eeg\")\n",
    "info.set_montage(\"standard_alphabetic\")\n"
   ]
  },
  {
   "cell_type": "code",
   "execution_count": 38,
   "id": "53905f08-f366-4b15-ae01-1485290c1eac",
   "metadata": {},
   "outputs": [
    {
     "name": "stdout",
     "output_type": "stream",
     "text": [
      "Computing rank from data with rank=None\n",
      "    Using tolerance 1.2 (2.2e-16 eps * 8 dim * 7e+14  max singular value)\n",
      "    Estimated rank (mag): 8\n",
      "    MAG: rank 8 computed from 8 data channels with 0 projectors\n",
      "Reducing data rank from 8 -> 8\n",
      "Estimating covariance using EMPIRICAL\n",
      "Done.\n",
      "Computing rank from data with rank=None\n",
      "    Using tolerance 1.5 (2.2e-16 eps * 8 dim * 8.6e+14  max singular value)\n",
      "    Estimated rank (mag): 8\n",
      "    MAG: rank 8 computed from 8 data channels with 0 projectors\n",
      "Reducing data rank from 8 -> 8\n",
      "Estimating covariance using EMPIRICAL\n",
      "Done.\n"
     ]
    },
    {
     "data": {
      "image/png": "[encoded data removed]",
      "text/plain": [
       "<MNEFigure size 540x158.4 with 5 Axes>"
      ]
     },
     "metadata": {
      "needs_background": "light"
     },
     "output_type": "display_data"
    },
    {
     "data": {
      "image/png": "[encoded data removed]",
      "text/plain": [
       "<MNEFigure size 540x158.4 with 5 Axes>"
      ]
     },
     "execution_count": 38,
     "metadata": {},
     "output_type": "execute_result"
    }
   ],
   "source": [
    "csp.fit(training, labels)\n",
    "csp.plot_patterns(info)"
   ]
  },
  {
   "cell_type": "code",
   "execution_count": 39,
   "id": "3599d66d-9e8e-40dc-bbce-0c10ecf21ba1",
   "metadata": {},
   "outputs": [],
   "source": [
    "# Look at energy spectrum of fit_transform outputs (CSP2 should be distinct from other ones)\n",
    "# Try CSP on data that is only filtered 0-60 hz, not into alpha band"
   ]
  },
  {
   "cell_type": "code",
   "execution_count": 40,
   "id": "29a50abf-577b-45d4-8758-55d19eb48e4f",
   "metadata": {},
   "outputs": [
    {
     "name": "stdout",
     "output_type": "stream",
     "text": [
      "Computing rank from data with rank=None\n",
      "    Using tolerance 1.2 (2.2e-16 eps * 8 dim * 7e+14  max singular value)\n",
      "    Estimated rank (mag): 8\n",
      "    MAG: rank 8 computed from 8 data channels with 0 projectors\n",
      "Reducing data rank from 8 -> 8\n",
      "Estimating covariance using EMPIRICAL\n",
      "Done.\n",
      "Computing rank from data with rank=None\n",
      "    Using tolerance 1.5 (2.2e-16 eps * 8 dim * 8.6e+14  max singular value)\n",
      "    Estimated rank (mag): 8\n",
      "    MAG: rank 8 computed from 8 data channels with 0 projectors\n",
      "Reducing data rank from 8 -> 8\n",
      "Estimating covariance using EMPIRICAL\n",
      "Done.\n"
     ]
    }
   ],
   "source": [
    "[csp_1, csp_2, csp_3, csp_4, csp_5, csp_6, csp_7, csp_8, csp_9, csp_10, csp_11, csp_12] = csp.fit_transform(training, labels)"
   ]
  },
  {
   "cell_type": "code",
   "execution_count": 41,
   "id": "b9649d9b-bc68-42d7-81c9-82b903e25701",
   "metadata": {},
   "outputs": [
    {
     "name": "stdout",
     "output_type": "stream",
     "text": [
      "[-1.85806348 -0.01658714 -0.00360987 -1.05976644]\n"
     ]
    }
   ],
   "source": [
    "print (csp_1)"
   ]
  }
 ],
 "metadata": {
  "kernelspec": {
   "display_name": "Python 3 (ipykernel)",
   "language": "python",
   "name": "python3"
  },
  "language_info": {
   "codemirror_mode": {
    "name": "ipython",
    "version": 3
   },
   "file_extension": ".py",
   "mimetype": "text/x-python",
   "name": "python",
   "nbconvert_exporter": "python",
   "pygments_lexer": "ipython3",
   "version": "3.8.12"
  }
 },
 "nbformat": 4,
 "nbformat_minor": 5
}
